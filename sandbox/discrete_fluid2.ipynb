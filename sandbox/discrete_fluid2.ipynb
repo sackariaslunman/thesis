{
 "cells": [
  {
   "cell_type": "code",
   "execution_count": 72,
   "id": "1dff06f6",
   "metadata": {},
   "outputs": [],
   "source": [
    "import numpy as np\n",
    "from typing import Tuple"
   ]
  },
  {
   "cell_type": "code",
   "execution_count": 73,
   "id": "a7ff7074",
   "metadata": {},
   "outputs": [
    {
     "data": {
      "text/plain": [
       "array([ 8,  8,  8,  8, 10,  8, 10, 10,  8,  8])"
      ]
     },
     "execution_count": 73,
     "metadata": {},
     "output_type": "execute_result"
    }
   ],
   "source": [
    "np.random.choice([8,10], size=10)"
   ]
  },
  {
   "cell_type": "code",
   "execution_count": null,
   "id": "fe70f087",
   "metadata": {},
   "outputs": [],
   "source": [
    "scattering_rules = {\n",
    "    0b001001: (0b100100, 0b010010),\n",
    "    0b010010: (0b001001, 0b100100),\n",
    "    0b100100: (0b001001, 0b010010),\n",
    "    0b010101: (0b101010,),\n",
    "    0b101010: (0b010101,)\n",
    "}\n",
    "\n",
    "even_row_neighbors = np.array([\n",
    "    [0, 1],\n",
    "    [-1, 0],\n",
    "    [-1, -1],\n",
    "    [0, -1],\n",
    "    [1, -1],\n",
    "    [1, 0]\n",
    "])\n",
    "odd_row_neighbors = np.array([\n",
    "    [0, 1],\n",
    "    [-1, -1],\n",
    "    [-1, 0],\n",
    "    [0, -1],\n",
    "    [1, 0],\n",
    "    [1, 1]\n",
    "])\n",
    "\n",
    "bit_to_neighbor = {\n",
    "    1: ((0, 1), (0, 1)),\n",
    "    2: ((-1, 0), (-1, -1)),\n",
    "    4: ((-1, -1), (-1, 0)),\n",
    "    8: ((0, -1), (0, -1)),\n",
    "    16: ((1, -1), (1, 0)),\n",
    "    32: ((1, 0), (1,1))\n",
    "}\n",
    "\n",
    "def generate_lattice(N_x: int, N_y: int) -> np.ndarray:\n",
    "    shape = (N_x, N_y)\n",
    "    lattice = np.random.randint(0, 64, size=shape).astype(np.uint8)\n",
    "    return lattice\n",
    "\n",
    "def apply_collisions(lattice: np.ndarray) -> np.ndarray:\n",
    "    new_lattice = lattice.copy()\n",
    "    for input, outputs in scattering_rules.items():\n",
    "        input_mask = lattice == input\n",
    "        output_result = np.random.choice(outputs, size=np.sum(input_mask))\n",
    "        new_lattice[input_mask] = output_result\n",
    "    return new_lattice\n",
    "\n",
    "def move_particles(lattice: np.ndarray) -> np.ndarray:\n",
    "    next_lattice = np.zeros_like(lattice)\n",
    "    for i in range(lattice.shape[0]):\n",
    "        for j in range(lattice.shape[0]):\n",
    "            value = next_lattice[i,j]\n",
    "            for bit, neighbor in bit_to_neighbor.items():\n",
    "                if value & bit:\n",
    "                    new_site = add_indices(site, neighbor)\n",
    "                    if new_site not in lattice:\n",
    "                        bit = reflective_rules[bit]\n",
    "                        new_site = site\n",
    "                    new_lattice[new_site] |= bit\n"
   ]
  },
  {
   "cell_type": "code",
   "execution_count": 88,
   "id": "cec0e9ea",
   "metadata": {},
   "outputs": [
    {
     "data": {
      "text/plain": [
       "1"
      ]
     },
     "execution_count": 88,
     "metadata": {},
     "output_type": "execute_result"
    }
   ],
   "source": [
    "1 % 2"
   ]
  },
  {
   "cell_type": "code",
   "execution_count": 75,
   "id": "bce2575d",
   "metadata": {},
   "outputs": [
    {
     "name": "stdout",
     "output_type": "stream",
     "text": [
      "{9: (36, 18), 18: (9, 36), 36: (9, 18), 21: (42,), 42: (21,)}\n"
     ]
    }
   ],
   "source": [
    "print(scattering_rules)"
   ]
  },
  {
   "cell_type": "code",
   "execution_count": 76,
   "id": "e6e9e7b3",
   "metadata": {},
   "outputs": [
    {
     "name": "stdout",
     "output_type": "stream",
     "text": [
      "[[10 20 62 62 28 10 51 55 56  7]\n",
      " [57  9 34 29 36 17 19  5 53 44]\n",
      " [63 51 34 20 23  2 46 60 17 23]\n",
      " [47 33 17  4 58 49 52 51 43 55]\n",
      " [50  0 44 39 12  9 21 56 19 29]\n",
      " [35  7 34 41 34 21  9  9  8  8]\n",
      " [ 2 60 23  6  5  0 41 63  6 50]\n",
      " [25 18 50 37 20 17 19 23 53 27]\n",
      " [18 25 55  1 48 48 50  6 46 63]\n",
      " [29  3 27 22 33  1 20 26 56 46]]\n"
     ]
    },
    {
     "data": {
      "text/plain": [
       "array([[10, 20, 62, 62, 28, 10, 51, 55, 56,  7],\n",
       "       [57, 36, 34, 29,  9, 17, 19,  5, 53, 44],\n",
       "       [63, 51, 34, 20, 23,  2, 46, 60, 17, 23],\n",
       "       [47, 33, 17,  4, 58, 49, 52, 51, 43, 55],\n",
       "       [50,  0, 44, 39, 12, 18, 42, 56, 19, 29],\n",
       "       [35,  7, 34, 41, 34, 42, 18, 36,  8,  8],\n",
       "       [ 2, 60, 23,  6,  5,  0, 41, 63,  6, 50],\n",
       "       [25, 36, 50, 37, 20, 17, 19, 23, 53, 27],\n",
       "       [ 9, 25, 55,  1, 48, 48, 50,  6, 46, 63],\n",
       "       [29,  3, 27, 22, 33,  1, 20, 26, 56, 46]], dtype=int32)"
      ]
     },
     "execution_count": 76,
     "metadata": {},
     "output_type": "execute_result"
    }
   ],
   "source": [
    "lattice = generate_lattice(10, 10)\n",
    "print(lattice)\n",
    "apply_collisions(lattice)"
   ]
  },
  {
   "cell_type": "code",
   "execution_count": null,
   "id": "57d64ae7",
   "metadata": {},
   "outputs": [
    {
     "data": {
      "text/plain": [
       "array([57,  9, 34, 29, 36, 17, 19,  5, 53, 44, 47, 33, 17,  4, 58, 49, 52,\n",
       "       51, 43, 55, 35,  7, 34, 41, 34, 21,  9,  9,  8,  8, 25, 18, 50, 37,\n",
       "       20, 17, 19, 23, 53, 27, 29,  3, 27, 22, 33,  1, 20, 26, 56, 46],\n",
       "      dtype=int32)"
      ]
     },
     "execution_count": 85,
     "metadata": {},
     "output_type": "execute_result"
    }
   ],
   "source": [
    "odd_rows = odd_row_indices(lattice.shape)\n",
    "lattice[odd_rows[:,0], odd_rows[:,1]]"
   ]
  },
  {
   "cell_type": "code",
   "execution_count": 86,
   "id": "b90bb8db",
   "metadata": {},
   "outputs": [
    {
     "ename": "ValueError",
     "evalue": "operands could not be broadcast together with shapes (50,2) (6,2) ",
     "output_type": "error",
     "traceback": [
      "\u001b[1;31m---------------------------------------------------------------------------\u001b[0m",
      "\u001b[1;31mValueError\u001b[0m                                Traceback (most recent call last)",
      "Cell \u001b[1;32mIn[86], line 1\u001b[0m\n\u001b[1;32m----> 1\u001b[0m \u001b[43modd_rows\u001b[49m\u001b[43m \u001b[49m\u001b[38;5;241;43m+\u001b[39;49m\u001b[43m \u001b[49m\u001b[43modd_row_neighbors\u001b[49m\n",
      "\u001b[1;31mValueError\u001b[0m: operands could not be broadcast together with shapes (50,2) (6,2) "
     ]
    }
   ],
   "source": [
    "odd_rows + odd_row_neighbors"
   ]
  },
  {
   "cell_type": "code",
   "execution_count": 89,
   "id": "07b0e117",
   "metadata": {},
   "outputs": [
    {
     "data": {
      "image/png": "[encoded data removed]",
      "text/plain": [
       "<Figure size 640x480 with 1 Axes>"
      ]
     },
     "metadata": {},
     "output_type": "display_data"
    }
   ],
   "source": [
    "import matplotlib.pyplot as plt\n",
    "\n",
    "indices = np.indices(lattice.shape)\n",
    "plt.scatter(indices[0,:].flatten(), indices[1,:].flatten())\n",
    "plt.gca().set_aspect('equal')\n",
    "plt.show()"
   ]
  }
 ],
 "metadata": {
  "kernelspec": {
   "display_name": "Python 3",
   "language": "python",
   "name": "python3"
  },
  "language_info": {
   "codemirror_mode": {
    "name": "ipython",
    "version": 3
   },
   "file_extension": ".py",
   "mimetype": "text/x-python",
   "name": "python",
   "nbconvert_exporter": "python",
   "pygments_lexer": "ipython3",
   "version": "3.12.8"
  }
 },
 "nbformat": 4,
 "nbformat_minor": 5
}
