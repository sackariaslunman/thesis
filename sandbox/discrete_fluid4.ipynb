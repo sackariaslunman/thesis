{
 "cells": [
  {
   "cell_type": "code",
   "execution_count": 10,
   "id": "395c8b45",
   "metadata": {},
   "outputs": [],
   "source": [
    "from sandbox.lattice_gas2 import simulate_lattice, generate_lattice, bit_directions"
   ]
  },
  {
   "cell_type": "code",
   "execution_count": 3,
   "id": "9abc77b6",
   "metadata": {},
   "outputs": [
    {
     "name": "stderr",
     "output_type": "stream",
     "text": [
      "100%|██████████| 100/100 [00:00<00:00, 447.86it/s]\n"
     ]
    }
   ],
   "source": [
    "N_rows, N_cols = 100, 100\n",
    "N_steps = 100\n",
    "lattice = generate_lattice(N_rows, N_cols, 0.3)\n",
    "lattice[40:60,40:60,6] = 1\n",
    "lattice[40:60,40:60,:6] = 0\n",
    "lattice_list, momenta, particle_numbers, spurious_c = simulate_lattice(lattice, N_steps)"
   ]
  },
  {
   "cell_type": "code",
   "execution_count": 25,
   "id": "286934b3",
   "metadata": {},
   "outputs": [
    {
     "data": {
      "text/plain": [
       "array([[[ 5.00000000e-01, -8.66025404e-01],\n",
       "        [-5.00000000e-01, -8.66025404e-01],\n",
       "        [ 0.00000000e+00,  0.00000000e+00],\n",
       "        ...,\n",
       "        [-5.00000000e-01,  8.66025404e-01],\n",
       "        [ 3.33066907e-16,  1.11022302e-16],\n",
       "        [-5.00000000e-01,  8.66025404e-01]],\n",
       "\n",
       "       [[ 5.00000000e-01,  8.66025404e-01],\n",
       "        [-1.00000000e+00,  1.22464680e-16],\n",
       "        [-3.33066907e-16, -1.73205081e+00],\n",
       "        ...,\n",
       "        [ 5.00000000e-01, -8.66025404e-01],\n",
       "        [-5.00000000e-01,  8.66025404e-01],\n",
       "        [-1.00000000e+00,  1.22464680e-16]],\n",
       "\n",
       "       [[ 5.00000000e-01,  8.66025404e-01],\n",
       "        [ 1.00000000e+00, -1.73205081e+00],\n",
       "        [-5.00000000e-01, -8.66025404e-01],\n",
       "        ...,\n",
       "        [-1.00000000e+00,  1.22464680e-16],\n",
       "        [ 5.00000000e-01, -8.66025404e-01],\n",
       "        [ 5.00000000e-01,  8.66025404e-01]],\n",
       "\n",
       "       ...,\n",
       "\n",
       "       [[ 0.00000000e+00,  0.00000000e+00],\n",
       "        [ 5.00000000e-01, -8.66025404e-01],\n",
       "        [ 1.00000000e+00,  0.00000000e+00],\n",
       "        ...,\n",
       "        [-5.00000000e-01,  8.66025404e-01],\n",
       "        [ 1.00000000e+00, -1.73205081e+00],\n",
       "        [-1.50000000e+00, -8.66025404e-01]],\n",
       "\n",
       "       [[-1.00000000e+00,  1.22464680e-16],\n",
       "        [ 5.00000000e-01, -8.66025404e-01],\n",
       "        [ 5.00000000e-01, -8.66025404e-01],\n",
       "        ...,\n",
       "        [ 0.00000000e+00,  0.00000000e+00],\n",
       "        [ 0.00000000e+00,  0.00000000e+00],\n",
       "        [-1.00000000e+00,  2.22044605e-16]],\n",
       "\n",
       "       [[-1.50000000e+00,  8.66025404e-01],\n",
       "        [ 0.00000000e+00,  0.00000000e+00],\n",
       "        [-1.50000000e+00, -8.66025404e-01],\n",
       "        ...,\n",
       "        [-5.00000000e-01, -8.66025404e-01],\n",
       "        [ 1.50000000e+00,  8.66025404e-01],\n",
       "        [ 0.00000000e+00,  0.00000000e+00]]], shape=(100, 100, 2))"
      ]
     },
     "execution_count": 25,
     "metadata": {},
     "output_type": "execute_result"
    }
   ],
   "source": [
    "import numpy as np\n",
    "\n",
    "def unsqueeze(arr, axis=-1):\n",
    "    return np.expand_dims(arr, axis)\n",
    "\n",
    "(unsqueeze(lattice[:,:,:6]) * bit_directions).sum(axis=-2)"
   ]
  },
  {
   "cell_type": "code",
   "execution_count": 11,
   "id": "4893d8c2",
   "metadata": {},
   "outputs": [
    {
     "data": {
      "text/plain": [
       "array([[ 1.00000000e+00,  0.00000000e+00],\n",
       "       [ 5.00000000e-01,  8.66025404e-01],\n",
       "       [-5.00000000e-01,  8.66025404e-01],\n",
       "       [-1.00000000e+00,  1.22464680e-16],\n",
       "       [-5.00000000e-01, -8.66025404e-01],\n",
       "       [ 5.00000000e-01, -8.66025404e-01]])"
      ]
     },
     "execution_count": 11,
     "metadata": {},
     "output_type": "execute_result"
    }
   ],
   "source": [
    "bit_directions"
   ]
  },
  {
   "cell_type": "code",
   "execution_count": 4,
   "id": "8bed3cf1",
   "metadata": {},
   "outputs": [
    {
     "data": {
      "image/png": "[encoded data removed]",
      "text/plain": [
       "<Figure size 640x480 with 1 Axes>"
      ]
     },
     "metadata": {},
     "output_type": "display_data"
    },
    {
     "ename": "IndexError",
     "evalue": "too many indices for array: array is 1-dimensional, but 2 were indexed",
     "output_type": "error",
     "traceback": [
      "\u001b[1;31m---------------------------------------------------------------------------\u001b[0m",
      "\u001b[1;31mIndexError\u001b[0m                                Traceback (most recent call last)",
      "Cell \u001b[1;32mIn[4], line 7\u001b[0m\n\u001b[0;32m      5\u001b[0m plt\u001b[38;5;241m.\u001b[39mshow()\n\u001b[0;32m      6\u001b[0m plt\u001b[38;5;241m.\u001b[39msubplot(\u001b[38;5;241m1\u001b[39m, \u001b[38;5;241m2\u001b[39m, \u001b[38;5;241m1\u001b[39m)\n\u001b[1;32m----> 7\u001b[0m plt\u001b[38;5;241m.\u001b[39mplot(\u001b[43mmomenta\u001b[49m\u001b[43m[\u001b[49m\u001b[43m:\u001b[49m\u001b[43m,\u001b[49m\u001b[38;5;241;43m0\u001b[39;49m\u001b[43m]\u001b[49m)\n\u001b[0;32m      8\u001b[0m plt\u001b[38;5;241m.\u001b[39msubplot(\u001b[38;5;241m1\u001b[39m, \u001b[38;5;241m2\u001b[39m, \u001b[38;5;241m2\u001b[39m)\n\u001b[0;32m      9\u001b[0m plt\u001b[38;5;241m.\u001b[39mplot(momenta[:,\u001b[38;5;241m1\u001b[39m])\n",
      "\u001b[1;31mIndexError\u001b[0m: too many indices for array: array is 1-dimensional, but 2 were indexed"
     ]
    },
    {
     "data": {
      "image/png": "[encoded data removed]",
      "text/plain": [
       "<Figure size 640x480 with 1 Axes>"
      ]
     },
     "metadata": {},
     "output_type": "display_data"
    }
   ],
   "source": [
    "import matplotlib.pyplot as plt\n",
    "import numpy as np\n",
    "momenta = np.array(momenta)\n",
    "plt.plot(particle_numbers)\n",
    "plt.show()\n",
    "plt.subplot(1, 2, 1)\n",
    "plt.plot(momenta[:,0])\n",
    "plt.subplot(1, 2, 2)\n",
    "plt.plot(momenta[:,1])\n",
    "plt.show()\n",
    "plt.plot(spurious_c)\n",
    "plt.show()"
   ]
  }
 ],
 "metadata": {
  "kernelspec": {
   "display_name": "Python 3",
   "language": "python",
   "name": "python3"
  },
  "language_info": {
   "codemirror_mode": {
    "name": "ipython",
    "version": 3
   },
   "file_extension": ".py",
   "mimetype": "text/x-python",
   "name": "python",
   "nbconvert_exporter": "python",
   "pygments_lexer": "ipython3",
   "version": "3.12.8"
  }
 },
 "nbformat": 4,
 "nbformat_minor": 5
}
